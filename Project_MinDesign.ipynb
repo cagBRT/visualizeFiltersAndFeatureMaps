{
  "nbformat": 4,
  "nbformat_minor": 0,
  "metadata": {
    "colab": {
      "name": "Project MinDesign.ipynb",
      "provenance": [],
      "private_outputs": true,
      "collapsed_sections": [],
      "toc_visible": true
    },
    "kernelspec": {
      "name": "python3",
      "display_name": "Python 3"
    }
  },
  "cells": [
    {
      "cell_type": "markdown",
      "metadata": {
        "id": "z4gBqWB2xJd3",
        "colab_type": "text"
      },
      "source": [
        "##Setup the notebook"
      ]
    },
    {
      "cell_type": "code",
      "metadata": {
        "id": "ivw4CkGzxQZM",
        "colab_type": "code",
        "colab": {}
      },
      "source": [
        "# Clone the entire repo.\n",
        "!git clone -l -s https://github.com/cagBRT/visualizeFiltersAndFeatureMaps.git cloned-repo\n",
        "%cd cloned-repo\n",
        "!ls"
      ],
      "execution_count": 0,
      "outputs": []
    },
    {
      "cell_type": "code",
      "metadata": {
        "id": "w87uW0aAxZGY",
        "colab_type": "code",
        "colab": {}
      },
      "source": [
        "from IPython.display import Image\n",
        "def page(num):\n",
        "    return Image(\"Intro to Deep Neural Networks with Keras (\"+str(num)+ \").png\", width=640)"
      ],
      "execution_count": 0,
      "outputs": []
    },
    {
      "cell_type": "markdown",
      "metadata": {
        "id": "dbUXrnJdlO7D",
        "colab_type": "text"
      },
      "source": [
        "##How to Visualize Filters and Feature Maps in Convolutional Networks"
      ]
    },
    {
      "cell_type": "markdown",
      "metadata": {
        "id": "TwLB0ZYKxvAu",
        "colab_type": "text"
      },
      "source": [
        ""
      ]
    },
    {
      "cell_type": "markdown",
      "metadata": {
        "id": "VY5hpaCJlZ2h",
        "colab_type": "text"
      },
      "source": [
        "###Goals of this tutorial: \n",
        "1. Use VGG16 and extract parameters from hidden layers\n",
        "\n",
        "```\n",
        "# This is formatted as code\n",
        "```\n",
        "\n",
        "\n",
        "2. Visualize CNN filters\n",
        "3. Visualize feature maps\n"
      ]
    },
    {
      "cell_type": "markdown",
      "metadata": {
        "id": "dvog2NZzl4Cy",
        "colab_type": "text"
      },
      "source": [
        "##VGG16 Pre-trained model"
      ]
    },
    {
      "cell_type": "markdown",
      "metadata": {
        "id": "jXGRH420mDAc",
        "colab_type": "text"
      },
      "source": [
        "Short explanation about VGG16 and its layers. "
      ]
    },
    {
      "cell_type": "code",
      "metadata": {
        "id": "luo3RZ-Gk_5z",
        "colab_type": "code",
        "colab": {}
      },
      "source": [
        "from IPython.display import Image\n",
        "Image(\"vgg16.png\", width=600)"
      ],
      "execution_count": 0,
      "outputs": []
    },
    {
      "cell_type": "markdown",
      "metadata": {
        "id": "FXCUE9DWoHH_",
        "colab_type": "text"
      },
      "source": [
        "###Load VGG16"
      ]
    },
    {
      "cell_type": "code",
      "metadata": {
        "id": "9gDrbNGlod9f",
        "colab_type": "code",
        "colab": {}
      },
      "source": [
        "# load vgg model\n",
        "from keras.applications.vgg16 import VGG16\n",
        "# load the model\n",
        "model = VGG16()\n"
      ],
      "execution_count": 0,
      "outputs": []
    },
    {
      "cell_type": "markdown",
      "metadata": {
        "id": "fKoPiA2koojO",
        "colab_type": "text"
      },
      "source": [
        "### Summarize the model"
      ]
    },
    {
      "cell_type": "code",
      "metadata": {
        "id": "1NqpDHjZoouX",
        "colab_type": "code",
        "colab": {}
      },
      "source": [
        "# summarize the model\n",
        "model.summary()"
      ],
      "execution_count": 0,
      "outputs": []
    },
    {
      "cell_type": "markdown",
      "metadata": {
        "id": "vZCGtvtcps2H",
        "colab_type": "text"
      },
      "source": [
        "# Visualize the Filters"
      ]
    },
    {
      "cell_type": "markdown",
      "metadata": {
        "id": "uCrQoym-pzup",
        "colab_type": "text"
      },
      "source": [
        "Discussion on visualizing filters"
      ]
    },
    {
      "cell_type": "markdown",
      "metadata": {
        "id": "x1hqtJUkp5sQ",
        "colab_type": "text"
      },
      "source": [
        "###Isolate the convolutional layers"
      ]
    },
    {
      "cell_type": "markdown",
      "metadata": {
        "id": "XeUtzqXhqJsU",
        "colab_type": "text"
      },
      "source": [
        "Explanatory text here"
      ]
    },
    {
      "cell_type": "code",
      "metadata": {
        "id": "7AZtgv3PqBKP",
        "colab_type": "code",
        "colab": {}
      },
      "source": [
        "# summarize filter shapes\n",
        "for layer in model.layers:\n",
        "\t# check for convolutional layer\n",
        "\tif 'conv' not in layer.name:\n",
        "\t\tcontinue"
      ],
      "execution_count": 0,
      "outputs": []
    },
    {
      "cell_type": "markdown",
      "metadata": {
        "id": "wts9L3U-qDrX",
        "colab_type": "text"
      },
      "source": [
        "###Get the filter weights"
      ]
    },
    {
      "cell_type": "markdown",
      "metadata": {
        "id": "hX2UFpkVqQSh",
        "colab_type": "text"
      },
      "source": [
        "Explanatory text here"
      ]
    },
    {
      "cell_type": "code",
      "metadata": {
        "id": "8XzJ4bv9qHcR",
        "colab_type": "code",
        "colab": {}
      },
      "source": [
        "# get filter weights\n",
        "filters, biases = layer.get_weights()\n",
        "print(layer.name, filters.shape)"
      ],
      "execution_count": 0,
      "outputs": []
    },
    {
      "cell_type": "markdown",
      "metadata": {
        "id": "hNa5rDqmqSt0",
        "colab_type": "text"
      },
      "source": [
        "Discuss the shape of the layers"
      ]
    },
    {
      "cell_type": "markdown",
      "metadata": {
        "id": "CPuKMwVGqcfY",
        "colab_type": "text"
      },
      "source": [
        "###Get the weights from the first layer"
      ]
    },
    {
      "cell_type": "code",
      "metadata": {
        "id": "o2I-_1L_qhme",
        "colab_type": "code",
        "colab": {}
      },
      "source": [
        "# retrieve weights from the second hidden layer\n",
        "filters, biases = model.layers[1].get_weights()\n",
        "1\n",
        "2\n",
        "# retrieve weights from the second hidden layer\n",
        "filters, biases = model.layers[1].get_weights()"
      ],
      "execution_count": 0,
      "outputs": []
    },
    {
      "cell_type": "markdown",
      "metadata": {
        "id": "9EAnqduYq_gz",
        "colab_type": "text"
      },
      "source": [
        "###Normalize the weights"
      ]
    },
    {
      "cell_type": "code",
      "metadata": {
        "id": "TAXZGvqDrEuz",
        "colab_type": "code",
        "colab": {}
      },
      "source": [
        "# normalize filter values to 0-1 so we can visualize them\n",
        "f_min, f_max = filters.min(), filters.max()\n",
        "filters = (filters - f_min) / (f_max - f_min)"
      ],
      "execution_count": 0,
      "outputs": []
    },
    {
      "cell_type": "markdown",
      "metadata": {
        "id": "7orkunjBrL0p",
        "colab_type": "text"
      },
      "source": [
        "###Use MatPlotLib to look at the first six filters"
      ]
    },
    {
      "cell_type": "code",
      "metadata": {
        "id": "d-iFrnClrL_y",
        "colab_type": "code",
        "colab": {}
      },
      "source": [
        "# plot first few filters\n",
        "n_filters, ix = 6, 1\n",
        "for i in range(n_filters):\n",
        "\t# get the filter\n",
        "\tf = filters[:, :, :, i]\n",
        "\t# plot each channel separately\n",
        "\tfor j in range(3):\n",
        "\t\t# specify subplot and turn of axis\n",
        "\t\tax = pyplot.subplot(n_filters, 3, ix)\n",
        "\t\tax.set_xticks([])\n",
        "\t\tax.set_yticks([])\n",
        "\t\t# plot filter channel in grayscale\n",
        "\t\tpyplot.imshow(f[:, :, j], cmap='gray')\n",
        "\t\tix += 1\n",
        "# show the figure\n",
        "pyplot.show()"
      ],
      "execution_count": 0,
      "outputs": []
    },
    {
      "cell_type": "code",
      "metadata": {
        "id": "cLwvzwY1rqjG",
        "colab_type": "code",
        "colab": {}
      },
      "source": [
        "Image(\"filterexample.png\", width=600)"
      ],
      "execution_count": 0,
      "outputs": []
    },
    {
      "cell_type": "markdown",
      "metadata": {
        "id": "GbyaZOemsLb6",
        "colab_type": "text"
      },
      "source": [
        "# Visualize Feature Maps"
      ]
    },
    {
      "cell_type": "markdown",
      "metadata": {
        "id": "u6Zr8HmAsSpq",
        "colab_type": "text"
      },
      "source": [
        ""
      ]
    },
    {
      "cell_type": "markdown",
      "metadata": {
        "id": "1BwKyjy8sUG6",
        "colab_type": "text"
      },
      "source": [
        "###Download the image for classification"
      ]
    },
    {
      "cell_type": "code",
      "metadata": {
        "id": "ke1ycymusaLc",
        "colab_type": "code",
        "colab": {}
      },
      "source": [
        ""
      ],
      "execution_count": 0,
      "outputs": []
    },
    {
      "cell_type": "markdown",
      "metadata": {
        "id": "xqaEvr0YsdSz",
        "colab_type": "text"
      },
      "source": [
        ""
      ]
    },
    {
      "cell_type": "code",
      "metadata": {
        "id": "iFpMjm60sdim",
        "colab_type": "code",
        "colab": {}
      },
      "source": [
        "Image(\"bird.png\", width=600)"
      ],
      "execution_count": 0,
      "outputs": []
    },
    {
      "cell_type": "markdown",
      "metadata": {
        "id": "phXNbtsytPRt",
        "colab_type": "text"
      },
      "source": [
        "###Load the image"
      ]
    },
    {
      "cell_type": "code",
      "metadata": {
        "id": "LpqapqaNtE0L",
        "colab_type": "code",
        "colab": {}
      },
      "source": [
        "# redefine model to output right after the first hidden layer\n",
        "model = Model(inputs=model.inputs, outputs=model.layers[1].output)"
      ],
      "execution_count": 0,
      "outputs": []
    },
    {
      "cell_type": "code",
      "metadata": {
        "id": "JPwf4KDZtPbO",
        "colab_type": "code",
        "colab": {}
      },
      "source": [
        "# load the image with the required shape\n",
        "img = load_img('bird.jpg', target_size=(224, 224))"
      ],
      "execution_count": 0,
      "outputs": []
    },
    {
      "cell_type": "markdown",
      "metadata": {
        "id": "N3iNk2ybtVMo",
        "colab_type": "text"
      },
      "source": [
        "###Convert the image to a Numpy array"
      ]
    },
    {
      "cell_type": "code",
      "metadata": {
        "id": "WFHWvcP0tlsy",
        "colab_type": "code",
        "colab": {}
      },
      "source": [
        "# convert the image to an array\n",
        "img = img_to_array(img)\n",
        "# expand dimensions so that it represents a single 'sample'\n",
        "img = expand_dims(img, axis=0)"
      ],
      "execution_count": 0,
      "outputs": []
    },
    {
      "cell_type": "markdown",
      "metadata": {
        "id": "mBzmXhkauJfj",
        "colab_type": "text"
      },
      "source": [
        "###Preprocess the image"
      ]
    },
    {
      "cell_type": "code",
      "metadata": {
        "id": "n1qke5xLuMMd",
        "colab_type": "code",
        "colab": {}
      },
      "source": [
        "# prepare the image (e.g. scale pixel values for the vgg)\n",
        "img = preprocess_input(img)"
      ],
      "execution_count": 0,
      "outputs": []
    },
    {
      "cell_type": "markdown",
      "metadata": {
        "id": "7RaDpXT1slfT",
        "colab_type": "text"
      },
      "source": [
        "###Summarize the size of the feature maps "
      ]
    },
    {
      "cell_type": "code",
      "metadata": {
        "id": "JHLYW5uaslqe",
        "colab_type": "code",
        "colab": {}
      },
      "source": [
        "# summarize feature map size for each conv layer\n",
        "from keras.applications.vgg16 import VGG16\n",
        "from matplotlib import pyplot\n",
        "# load the model\n",
        "model = VGG16()\n",
        "# summarize feature map shapes\n",
        "for i in range(len(model.layers)):\n",
        "\tlayer = model.layers[i]\n",
        "\t# check for convolutional layer\n",
        "\tif 'conv' not in layer.name:\n",
        "\t\tcontinue\n",
        "\t# summarize output shape\n",
        "\tprint(i, layer.name, layer.output.shape)"
      ],
      "execution_count": 0,
      "outputs": []
    },
    {
      "cell_type": "markdown",
      "metadata": {
        "id": "_hg-2CFKtEqC",
        "colab_type": "text"
      },
      "source": [
        "###Define the outputs of the feature layers"
      ]
    },
    {
      "cell_type": "code",
      "metadata": {
        "id": "WwVAbECFt-KM",
        "colab_type": "code",
        "colab": {}
      },
      "source": [
        "# get feature map for first hidden layer\n",
        "feature_maps = model.predict(img)\n"
      ],
      "execution_count": 0,
      "outputs": []
    },
    {
      "cell_type": "markdown",
      "metadata": {
        "id": "xNm1fZF-ubAm",
        "colab_type": "text"
      },
      "source": [
        "##Plot the feature maps using MatPlotLib"
      ]
    },
    {
      "cell_type": "code",
      "metadata": {
        "id": "w_rBAbTAthR6",
        "colab_type": "code",
        "colab": {}
      },
      "source": [
        "# plot all 64 maps in an 8x8 squares\n",
        "square = 8\n",
        "ix = 1\n",
        "for _ in range(square):\n",
        "\tfor _ in range(square):\n",
        "\t\t# specify subplot and turn of axis\n",
        "\t\tax = pyplot.subplot(square, square, ix)\n",
        "\t\tax.set_xticks([])\n",
        "\t\tax.set_yticks([])\n",
        "\t\t# plot filter channel in grayscale\n",
        "\t\tpyplot.imshow(feature_maps[0, :, :, ix-1], cmap='gray')\n",
        "\t\tix += 1\n",
        "# show the figure\n",
        "pyplot.show()"
      ],
      "execution_count": 0,
      "outputs": []
    },
    {
      "cell_type": "markdown",
      "metadata": {
        "id": "dG93V4ZNuuPW",
        "colab_type": "text"
      },
      "source": [
        "#Redefine the model"
      ]
    },
    {
      "cell_type": "code",
      "metadata": {
        "id": "KQ7Ue-Dwu114",
        "colab_type": "code",
        "colab": {}
      },
      "source": [
        "# redefine model to output right after the first hidden layer\n",
        "ixs = [2, 5, 9, 13, 17]\n",
        "outputs = [model.layers[i+1].output for i in ixs]\n",
        "model = Model(inputs=model.inputs, outputs=outputs)\n",
        "model.summary()"
      ],
      "execution_count": 0,
      "outputs": []
    },
    {
      "cell_type": "markdown",
      "metadata": {
        "id": "qocpMHZ9u6Dl",
        "colab_type": "text"
      },
      "source": [
        "###Cap the number of plotted feature maps"
      ]
    },
    {
      "cell_type": "code",
      "metadata": {
        "id": "Rr-yoiAOu6PI",
        "colab_type": "code",
        "colab": {}
      },
      "source": [
        "# plot the output from each block\n",
        "square = 8\n",
        "for fmap in feature_maps:\n",
        "\t# plot all 64 maps in an 8x8 squares\n",
        "\tix = 1\n",
        "\tfor _ in range(square):\n",
        "\t\tfor _ in range(square):\n",
        "\t\t\t# specify subplot and turn of axis\n",
        "\t\t\tax = pyplot.subplot(square, square, ix)\n",
        "\t\t\tax.set_xticks([])\n",
        "\t\t\tax.set_yticks([])\n",
        "\t\t\t# plot filter channel in grayscale\n",
        "\t\t\tpyplot.imshow(fmap[0, :, :, ix-1], cmap='gray')\n",
        "\t\t\tix += 1\n",
        "\t# show the figure\n",
        "\tpyplot.show()"
      ],
      "execution_count": 0,
      "outputs": []
    }
  ]
}